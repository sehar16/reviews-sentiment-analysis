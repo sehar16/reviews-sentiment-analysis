{
 "cells": [
  {
   "cell_type": "markdown",
   "id": "fa72091e",
   "metadata": {},
   "source": [
    "# sentiment analysis"
   ]
  },
  {
   "cell_type": "code",
   "execution_count": 1,
   "id": "60613d9e",
   "metadata": {},
   "outputs": [],
   "source": [
    "import pandas as pd\n",
    "import numpy as np\n",
    "import matplotlib.pyplot as plt\n",
    "import seaborn as sns\n",
    "import nltk\n",
    "\n",
    "import re\n",
    "from textblob import TextBlob"
   ]
  },
  {
   "cell_type": "code",
   "execution_count": 19,
   "id": "32f776e3",
   "metadata": {},
   "outputs": [
    {
     "name": "stderr",
     "output_type": "stream",
     "text": [
      "[nltk_data] Downloading package vader_lexicon to C:\\Users\\Sehar\n",
      "[nltk_data]     Khan\\AppData\\Roaming\\nltk_data...\n"
     ]
    },
    {
     "data": {
      "text/plain": [
       "True"
      ]
     },
     "execution_count": 19,
     "metadata": {},
     "output_type": "execute_result"
    }
   ],
   "source": [
    "nltk.download('vader_lexicon')"
   ]
  },
  {
   "cell_type": "code",
   "execution_count": 20,
   "id": "aa8b8dd8",
   "metadata": {},
   "outputs": [],
   "source": [
    "# importing csv file\n",
    "\n",
    "df = pd.read_csv('Data AnalystTest DataUS.csv')"
   ]
  },
  {
   "cell_type": "code",
   "execution_count": 21,
   "id": "266c6d8f",
   "metadata": {},
   "outputs": [
    {
     "name": "stderr",
     "output_type": "stream",
     "text": [
      "[nltk_data] Downloading package stopwords to C:\\Users\\Sehar\n",
      "[nltk_data]     Khan\\AppData\\Roaming\\nltk_data...\n",
      "[nltk_data]   Package stopwords is already up-to-date!\n"
     ]
    },
    {
     "data": {
      "text/plain": [
       "True"
      ]
     },
     "execution_count": 21,
     "metadata": {},
     "output_type": "execute_result"
    }
   ],
   "source": [
    "nltk.download('stopwords')"
   ]
  },
  {
   "cell_type": "code",
   "execution_count": 114,
   "id": "db603312",
   "metadata": {},
   "outputs": [
    {
     "data": {
      "text/html": [
       "<div>\n",
       "<style scoped>\n",
       "    .dataframe tbody tr th:only-of-type {\n",
       "        vertical-align: middle;\n",
       "    }\n",
       "\n",
       "    .dataframe tbody tr th {\n",
       "        vertical-align: top;\n",
       "    }\n",
       "\n",
       "    .dataframe thead th {\n",
       "        text-align: right;\n",
       "    }\n",
       "</style>\n",
       "<table border=\"1\" class=\"dataframe\">\n",
       "  <thead>\n",
       "    <tr style=\"text-align: right;\">\n",
       "      <th></th>\n",
       "      <th>Review</th>\n",
       "      <th>date</th>\n",
       "      <th>polarity_scores</th>\n",
       "    </tr>\n",
       "  </thead>\n",
       "  <tbody>\n",
       "    <tr>\n",
       "      <th>0</th>\n",
       "      <td>I was very impressed with the resort.\\n Great ...</td>\n",
       "      <td>2019/08/20</td>\n",
       "      <td>0.9421</td>\n",
       "    </tr>\n",
       "    <tr>\n",
       "      <th>1</th>\n",
       "      <td>The rooms were nice the outside needs work als...</td>\n",
       "      <td>2019/08/20</td>\n",
       "      <td>0.8360</td>\n",
       "    </tr>\n",
       "    <tr>\n",
       "      <th>2</th>\n",
       "      <td>Great location! I have stayed at this hotel on...</td>\n",
       "      <td>2019/08/20</td>\n",
       "      <td>0.6588</td>\n",
       "    </tr>\n",
       "    <tr>\n",
       "      <th>3</th>\n",
       "      <td>The hotel was adequate for my stay. The strips...</td>\n",
       "      <td>2019/08/20</td>\n",
       "      <td>0.3634</td>\n",
       "    </tr>\n",
       "    <tr>\n",
       "      <th>4</th>\n",
       "      <td>Great location, room was large and spacious. P...</td>\n",
       "      <td>2019/08/19</td>\n",
       "      <td>0.9260</td>\n",
       "    </tr>\n",
       "  </tbody>\n",
       "</table>\n",
       "</div>"
      ],
      "text/plain": [
       "                                              Review        date  \\\n",
       "0  I was very impressed with the resort.\\n Great ...  2019/08/20   \n",
       "1  The rooms were nice the outside needs work als...  2019/08/20   \n",
       "2  Great location! I have stayed at this hotel on...  2019/08/20   \n",
       "3  The hotel was adequate for my stay. The strips...  2019/08/20   \n",
       "4  Great location, room was large and spacious. P...  2019/08/19   \n",
       "\n",
       "   polarity_scores  \n",
       "0           0.9421  \n",
       "1           0.8360  \n",
       "2           0.6588  \n",
       "3           0.3634  \n",
       "4           0.9260  "
      ]
     },
     "execution_count": 114,
     "metadata": {},
     "output_type": "execute_result"
    }
   ],
   "source": [
    "df.head()"
   ]
  },
  {
   "cell_type": "code",
   "execution_count": 115,
   "id": "c578adc2",
   "metadata": {},
   "outputs": [
    {
     "data": {
      "text/html": [
       "<div>\n",
       "<style scoped>\n",
       "    .dataframe tbody tr th:only-of-type {\n",
       "        vertical-align: middle;\n",
       "    }\n",
       "\n",
       "    .dataframe tbody tr th {\n",
       "        vertical-align: top;\n",
       "    }\n",
       "\n",
       "    .dataframe thead th {\n",
       "        text-align: right;\n",
       "    }\n",
       "</style>\n",
       "<table border=\"1\" class=\"dataframe\">\n",
       "  <thead>\n",
       "    <tr style=\"text-align: right;\">\n",
       "      <th></th>\n",
       "      <th>polarity_scores</th>\n",
       "    </tr>\n",
       "  </thead>\n",
       "  <tbody>\n",
       "    <tr>\n",
       "      <th>count</th>\n",
       "      <td>33.000000</td>\n",
       "    </tr>\n",
       "    <tr>\n",
       "      <th>mean</th>\n",
       "      <td>0.543521</td>\n",
       "    </tr>\n",
       "    <tr>\n",
       "      <th>std</th>\n",
       "      <td>0.442306</td>\n",
       "    </tr>\n",
       "    <tr>\n",
       "      <th>min</th>\n",
       "      <td>-0.801600</td>\n",
       "    </tr>\n",
       "    <tr>\n",
       "      <th>25%</th>\n",
       "      <td>0.510600</td>\n",
       "    </tr>\n",
       "    <tr>\n",
       "      <th>50%</th>\n",
       "      <td>0.708800</td>\n",
       "    </tr>\n",
       "    <tr>\n",
       "      <th>75%</th>\n",
       "      <td>0.807400</td>\n",
       "    </tr>\n",
       "    <tr>\n",
       "      <th>max</th>\n",
       "      <td>0.942100</td>\n",
       "    </tr>\n",
       "  </tbody>\n",
       "</table>\n",
       "</div>"
      ],
      "text/plain": [
       "       polarity_scores\n",
       "count        33.000000\n",
       "mean          0.543521\n",
       "std           0.442306\n",
       "min          -0.801600\n",
       "25%           0.510600\n",
       "50%           0.708800\n",
       "75%           0.807400\n",
       "max           0.942100"
      ]
     },
     "execution_count": 115,
     "metadata": {},
     "output_type": "execute_result"
    }
   ],
   "source": [
    "df.describe()"
   ]
  },
  {
   "cell_type": "code",
   "execution_count": 138,
   "id": "93f0496a",
   "metadata": {},
   "outputs": [
    {
     "data": {
      "text/plain": [
       "Review               55\n",
       "date                  0\n",
       "polarity_scores    6415\n",
       "dtype: int64"
      ]
     },
     "execution_count": 138,
     "metadata": {},
     "output_type": "execute_result"
    }
   ],
   "source": [
    "pd.isnull(df).sum()"
   ]
  },
  {
   "cell_type": "code",
   "execution_count": 141,
   "id": "59636040",
   "metadata": {},
   "outputs": [],
   "source": [
    "df.drop(['polarity_scores'], axis = 1 , inplace = True)"
   ]
  },
  {
   "cell_type": "code",
   "execution_count": 146,
   "id": "f3a99191",
   "metadata": {},
   "outputs": [
    {
     "data": {
      "text/plain": [
       "Review    0\n",
       "date      0\n",
       "dtype: int64"
      ]
     },
     "execution_count": 146,
     "metadata": {},
     "output_type": "execute_result"
    }
   ],
   "source": [
    "pd.isnull(df).sum()"
   ]
  },
  {
   "cell_type": "code",
   "execution_count": 145,
   "id": "184f7914",
   "metadata": {},
   "outputs": [],
   "source": [
    "df.dropna(inplace=True)"
   ]
  },
  {
   "cell_type": "code",
   "execution_count": 117,
   "id": "1ebb85d4",
   "metadata": {},
   "outputs": [
    {
     "data": {
      "text/plain": [
       "(6448, 3)"
      ]
     },
     "execution_count": 117,
     "metadata": {},
     "output_type": "execute_result"
    }
   ],
   "source": [
    "df.shape"
   ]
  },
  {
   "cell_type": "code",
   "execution_count": 118,
   "id": "8e93f232",
   "metadata": {},
   "outputs": [
    {
     "name": "stdout",
     "output_type": "stream",
     "text": [
      "<class 'pandas.core.frame.DataFrame'>\n",
      "RangeIndex: 6448 entries, 0 to 6447\n",
      "Data columns (total 3 columns):\n",
      " #   Column           Non-Null Count  Dtype  \n",
      "---  ------           --------------  -----  \n",
      " 0   Review           6393 non-null   object \n",
      " 1   date             6448 non-null   object \n",
      " 2   polarity_scores  33 non-null     float64\n",
      "dtypes: float64(1), object(2)\n",
      "memory usage: 151.3+ KB\n"
     ]
    }
   ],
   "source": [
    "df.info()"
   ]
  },
  {
   "cell_type": "code",
   "execution_count": 27,
   "id": "aa8b9fc2",
   "metadata": {},
   "outputs": [],
   "source": [
    "df['Review'] = df['Review'].astype('object')"
   ]
  },
  {
   "cell_type": "code",
   "execution_count": 120,
   "id": "91704819",
   "metadata": {},
   "outputs": [
    {
     "data": {
      "text/html": [
       "<div>\n",
       "<style scoped>\n",
       "    .dataframe tbody tr th:only-of-type {\n",
       "        vertical-align: middle;\n",
       "    }\n",
       "\n",
       "    .dataframe tbody tr th {\n",
       "        vertical-align: top;\n",
       "    }\n",
       "\n",
       "    .dataframe thead th {\n",
       "        text-align: right;\n",
       "    }\n",
       "</style>\n",
       "<table border=\"1\" class=\"dataframe\">\n",
       "  <thead>\n",
       "    <tr style=\"text-align: right;\">\n",
       "      <th></th>\n",
       "      <th>Review</th>\n",
       "      <th>date</th>\n",
       "      <th>polarity_scores</th>\n",
       "    </tr>\n",
       "  </thead>\n",
       "  <tbody>\n",
       "    <tr>\n",
       "      <th>0</th>\n",
       "      <td>I was very impressed with the resort.\\n Great ...</td>\n",
       "      <td>2019/08/20</td>\n",
       "      <td>0.9421</td>\n",
       "    </tr>\n",
       "    <tr>\n",
       "      <th>1</th>\n",
       "      <td>The rooms were nice the outside needs work als...</td>\n",
       "      <td>2019/08/20</td>\n",
       "      <td>0.8360</td>\n",
       "    </tr>\n",
       "    <tr>\n",
       "      <th>2</th>\n",
       "      <td>Great location! I have stayed at this hotel on...</td>\n",
       "      <td>2019/08/20</td>\n",
       "      <td>0.6588</td>\n",
       "    </tr>\n",
       "    <tr>\n",
       "      <th>3</th>\n",
       "      <td>The hotel was adequate for my stay. The strips...</td>\n",
       "      <td>2019/08/20</td>\n",
       "      <td>0.3634</td>\n",
       "    </tr>\n",
       "    <tr>\n",
       "      <th>4</th>\n",
       "      <td>Great location, room was large and spacious. P...</td>\n",
       "      <td>2019/08/19</td>\n",
       "      <td>0.9260</td>\n",
       "    </tr>\n",
       "  </tbody>\n",
       "</table>\n",
       "</div>"
      ],
      "text/plain": [
       "                                              Review        date  \\\n",
       "0  I was very impressed with the resort.\\n Great ...  2019/08/20   \n",
       "1  The rooms were nice the outside needs work als...  2019/08/20   \n",
       "2  Great location! I have stayed at this hotel on...  2019/08/20   \n",
       "3  The hotel was adequate for my stay. The strips...  2019/08/20   \n",
       "4  Great location, room was large and spacious. P...  2019/08/19   \n",
       "\n",
       "   polarity_scores  \n",
       "0           0.9421  \n",
       "1           0.8360  \n",
       "2           0.6588  \n",
       "3           0.3634  \n",
       "4           0.9260  "
      ]
     },
     "execution_count": 120,
     "metadata": {},
     "output_type": "execute_result"
    }
   ],
   "source": [
    "df.head()"
   ]
  },
  {
   "cell_type": "code",
   "execution_count": 121,
   "id": "b8176b44",
   "metadata": {},
   "outputs": [
    {
     "data": {
      "text/plain": [
       "'I was very impressed with the resort.\\n Great staff at the main resort pool bar! We had a blast with them.\\n Clean, professional staff, great location and very reasonable!\\n  \\n  Read more\\n  Read less'"
      ]
     },
     "execution_count": 121,
     "metadata": {},
     "output_type": "execute_result"
    }
   ],
   "source": [
    "df['Review'].values[0]"
   ]
  },
  {
   "cell_type": "code",
   "execution_count": 122,
   "id": "977df5ad",
   "metadata": {},
   "outputs": [
    {
     "data": {
      "text/plain": [
       "2018/08/01     11\n",
       "2018/08/02      7\n",
       "2018/08/03     11\n",
       "2018/08/04      7\n",
       "2018/08/05     12\n",
       "             ... \n",
       "Mar 2019       35\n",
       "May 2019      121\n",
       "Nov 2018       42\n",
       "Oct 2018       58\n",
       "Sep 2018       35\n",
       "Name: date, Length: 403, dtype: int64"
      ]
     },
     "execution_count": 122,
     "metadata": {},
     "output_type": "execute_result"
    }
   ],
   "source": [
    "df['date'].value_counts().sort_index()"
   ]
  },
  {
   "cell_type": "code",
   "execution_count": 123,
   "id": "01cddc07",
   "metadata": {},
   "outputs": [
    {
     "data": {
      "text/plain": [
       "Jun 2019      145\n",
       "May 2019      121\n",
       "Jul 2019       92\n",
       "2018/12/01     66\n",
       "Oct 2018       58\n",
       "             ... \n",
       "2018/09/28      3\n",
       "2019/06/06      2\n",
       "Dec 2018        2\n",
       "2019/05/31      2\n",
       "2019/06/08      2\n",
       "Name: date, Length: 403, dtype: int64"
      ]
     },
     "execution_count": 123,
     "metadata": {},
     "output_type": "execute_result"
    }
   ],
   "source": [
    "df['date'].value_counts()"
   ]
  },
  {
   "cell_type": "code",
   "execution_count": 124,
   "id": "ec72b897",
   "metadata": {},
   "outputs": [
    {
     "name": "stdout",
     "output_type": "stream",
     "text": [
      "Friendly staff, excellent location. Would stay again in an instant.\n",
      "  \n",
      "  Read more\n",
      "  Read less\n"
     ]
    }
   ],
   "source": [
    "example = df['Review'][4898]\n",
    "print(example)"
   ]
  },
  {
   "cell_type": "code",
   "execution_count": 95,
   "id": "2e57fcf5",
   "metadata": {},
   "outputs": [],
   "source": [
    "from nltk.sentiment.vader import SentimentIntensityAnalyzer\n",
    "from tqdm.notebook import tqdm\n",
    "\n",
    "\n",
    "sia = SentimentIntensityAnalyzer\n"
   ]
  },
  {
   "cell_type": "code",
   "execution_count": 107,
   "id": "c728ef24",
   "metadata": {},
   "outputs": [],
   "source": [
    "sia().polarity_scores(example)"
   ]
  },
  {
   "cell_type": "code",
   "execution_count": 136,
   "id": "7a1114aa",
   "metadata": {},
   "outputs": [
    {
     "data": {
      "text/html": [
       "<div>\n",
       "<style scoped>\n",
       "    .dataframe tbody tr th:only-of-type {\n",
       "        vertical-align: middle;\n",
       "    }\n",
       "\n",
       "    .dataframe tbody tr th {\n",
       "        vertical-align: top;\n",
       "    }\n",
       "\n",
       "    .dataframe thead th {\n",
       "        text-align: right;\n",
       "    }\n",
       "</style>\n",
       "<table border=\"1\" class=\"dataframe\">\n",
       "  <thead>\n",
       "    <tr style=\"text-align: right;\">\n",
       "      <th></th>\n",
       "      <th>Review</th>\n",
       "      <th>date</th>\n",
       "      <th>polarity_scores</th>\n",
       "    </tr>\n",
       "  </thead>\n",
       "  <tbody>\n",
       "    <tr>\n",
       "      <th>0</th>\n",
       "      <td>I was very impressed with the resort.\\n Great ...</td>\n",
       "      <td>2019/08/20</td>\n",
       "      <td>0.9421</td>\n",
       "    </tr>\n",
       "    <tr>\n",
       "      <th>1</th>\n",
       "      <td>The rooms were nice the outside needs work als...</td>\n",
       "      <td>2019/08/20</td>\n",
       "      <td>0.8360</td>\n",
       "    </tr>\n",
       "    <tr>\n",
       "      <th>2</th>\n",
       "      <td>Great location! I have stayed at this hotel on...</td>\n",
       "      <td>2019/08/20</td>\n",
       "      <td>0.6588</td>\n",
       "    </tr>\n",
       "    <tr>\n",
       "      <th>3</th>\n",
       "      <td>The hotel was adequate for my stay. The strips...</td>\n",
       "      <td>2019/08/20</td>\n",
       "      <td>0.3634</td>\n",
       "    </tr>\n",
       "    <tr>\n",
       "      <th>4</th>\n",
       "      <td>Great location, room was large and spacious. P...</td>\n",
       "      <td>2019/08/19</td>\n",
       "      <td>0.9260</td>\n",
       "    </tr>\n",
       "    <tr>\n",
       "      <th>5</th>\n",
       "      <td>All the options for fun were great! Do wish th...</td>\n",
       "      <td>2019/08/19</td>\n",
       "      <td>0.8955</td>\n",
       "    </tr>\n",
       "    <tr>\n",
       "      <th>6</th>\n",
       "      <td>Old. Musty. Motel. \\n Bath need an update asap...</td>\n",
       "      <td>2019/08/19</td>\n",
       "      <td>0.0000</td>\n",
       "    </tr>\n",
       "    <tr>\n",
       "      <th>7</th>\n",
       "      <td>Loved the layout of the hotel and the relaxing...</td>\n",
       "      <td>2019/08/19</td>\n",
       "      <td>0.7964</td>\n",
       "    </tr>\n",
       "    <tr>\n",
       "      <th>8</th>\n",
       "      <td>My wife and I loved everything about it. It’s ...</td>\n",
       "      <td>2019/08/19</td>\n",
       "      <td>0.7650</td>\n",
       "    </tr>\n",
       "    <tr>\n",
       "      <th>9</th>\n",
       "      <td>rooms were very small, was told i had a compli...</td>\n",
       "      <td>2019/08/19</td>\n",
       "      <td>0.5789</td>\n",
       "    </tr>\n",
       "    <tr>\n",
       "      <th>10</th>\n",
       "      <td>Very clean and friendly and I love the locatio...</td>\n",
       "      <td>2019/08/19</td>\n",
       "      <td>0.8940</td>\n",
       "    </tr>\n",
       "    <tr>\n",
       "      <th>11</th>\n",
       "      <td>Nice and comfortable good position near the st...</td>\n",
       "      <td>2019/08/19</td>\n",
       "      <td>0.8402</td>\n",
       "    </tr>\n",
       "    <tr>\n",
       "      <th>12</th>\n",
       "      <td>Location was great, lobby area was nice but ro...</td>\n",
       "      <td>2019/08/19</td>\n",
       "      <td>0.5423</td>\n",
       "    </tr>\n",
       "    <tr>\n",
       "      <th>13</th>\n",
       "      <td>Quiet and at a great location. \\n Good control...</td>\n",
       "      <td>2019/08/19</td>\n",
       "      <td>0.7906</td>\n",
       "    </tr>\n",
       "    <tr>\n",
       "      <th>14</th>\n",
       "      <td>El servicio super amables no todos en el buffe...</td>\n",
       "      <td>2019/08/19</td>\n",
       "      <td>0.4215</td>\n",
       "    </tr>\n",
       "    <tr>\n",
       "      <th>15</th>\n",
       "      <td>Very nice and quiet and clean rooms. \\n We wil...</td>\n",
       "      <td>2019/08/19</td>\n",
       "      <td>0.6997</td>\n",
       "    </tr>\n",
       "    <tr>\n",
       "      <th>16</th>\n",
       "      <td>Rooms were clean, updated, and beds were comfo...</td>\n",
       "      <td>2019/08/19</td>\n",
       "      <td>0.7184</td>\n",
       "    </tr>\n",
       "    <tr>\n",
       "      <th>17</th>\n",
       "      <td>The staff was exceptionally helpful and the pr...</td>\n",
       "      <td>2019/08/19</td>\n",
       "      <td>0.7713</td>\n",
       "    </tr>\n",
       "    <tr>\n",
       "      <th>18</th>\n",
       "      <td>It was great for what we needed, a place to sl...</td>\n",
       "      <td>2019/08/19</td>\n",
       "      <td>0.5106</td>\n",
       "    </tr>\n",
       "    <tr>\n",
       "      <th>19</th>\n",
       "      <td>rooms were clean. we had two room and were abl...</td>\n",
       "      <td>2019/08/19</td>\n",
       "      <td>0.5538</td>\n",
       "    </tr>\n",
       "    <tr>\n",
       "      <th>20</th>\n",
       "      <td>A little off the beaten path, but ultimately p...</td>\n",
       "      <td>2019/08/18</td>\n",
       "      <td>0.9380</td>\n",
       "    </tr>\n",
       "    <tr>\n",
       "      <th>21</th>\n",
       "      <td>The room is tiny. The building is old and worn...</td>\n",
       "      <td>2019/08/18</td>\n",
       "      <td>0.6369</td>\n",
       "    </tr>\n",
       "    <tr>\n",
       "      <th>22</th>\n",
       "      <td>Awesome location, easy access to sights and su...</td>\n",
       "      <td>2019/08/18</td>\n",
       "      <td>0.7906</td>\n",
       "    </tr>\n",
       "    <tr>\n",
       "      <th>23</th>\n",
       "      <td>基本的に問題なしでした。\\n 清潔で防音も普通な方で、水回りも清潔でシャワーの水圧も問題なし...</td>\n",
       "      <td>2019/08/18</td>\n",
       "      <td>0.0000</td>\n",
       "    </tr>\n",
       "    <tr>\n",
       "      <th>24</th>\n",
       "      <td>The room did not seem clean. There was some so...</td>\n",
       "      <td>2019/08/18</td>\n",
       "      <td>-0.0665</td>\n",
       "    </tr>\n",
       "    <tr>\n",
       "      <th>25</th>\n",
       "      <td>Great location and friendly staff. Room with e...</td>\n",
       "      <td>2019/08/18</td>\n",
       "      <td>0.8074</td>\n",
       "    </tr>\n",
       "    <tr>\n",
       "      <th>26</th>\n",
       "      <td>Real nice love to go back soon \\n I will recom...</td>\n",
       "      <td>2019/08/17</td>\n",
       "      <td>0.9118</td>\n",
       "    </tr>\n",
       "    <tr>\n",
       "      <th>27</th>\n",
       "      <td>Beautiful hotel. Friendly, helpful staff. Walk...</td>\n",
       "      <td>2019/08/17</td>\n",
       "      <td>0.7579</td>\n",
       "    </tr>\n",
       "    <tr>\n",
       "      <th>28</th>\n",
       "      <td>Beautiful Art Deco building, Foyer is very orn...</td>\n",
       "      <td>2019/08/17</td>\n",
       "      <td>0.5994</td>\n",
       "    </tr>\n",
       "    <tr>\n",
       "      <th>29</th>\n",
       "      <td>En general excelente. Fantástica situación\\n D...</td>\n",
       "      <td>2019/08/17</td>\n",
       "      <td>-0.2960</td>\n",
       "    </tr>\n",
       "    <tr>\n",
       "      <th>30</th>\n",
       "      <td>Really close to job interview. Nice morning br...</td>\n",
       "      <td>2019/08/17</td>\n",
       "      <td>0.7088</td>\n",
       "    </tr>\n",
       "    <tr>\n",
       "      <th>31</th>\n",
       "      <td>Les chambres familiales sont pratiques (nous é...</td>\n",
       "      <td>2019/08/17</td>\n",
       "      <td>-0.5550</td>\n",
       "    </tr>\n",
       "    <tr>\n",
       "      <th>32</th>\n",
       "      <td>Rooms very dirty and aged. Breakfast was of po...</td>\n",
       "      <td>2019/08/17</td>\n",
       "      <td>-0.8016</td>\n",
       "    </tr>\n",
       "    <tr>\n",
       "      <th>33</th>\n",
       "      <td>NaN</td>\n",
       "      <td>2019/08/17</td>\n",
       "      <td>NaN</td>\n",
       "    </tr>\n",
       "    <tr>\n",
       "      <th>34</th>\n",
       "      <td>I have stayed for 5 nights, Great service, aff...</td>\n",
       "      <td>2019/08/17</td>\n",
       "      <td>NaN</td>\n",
       "    </tr>\n",
       "  </tbody>\n",
       "</table>\n",
       "</div>"
      ],
      "text/plain": [
       "                                               Review        date  \\\n",
       "0   I was very impressed with the resort.\\n Great ...  2019/08/20   \n",
       "1   The rooms were nice the outside needs work als...  2019/08/20   \n",
       "2   Great location! I have stayed at this hotel on...  2019/08/20   \n",
       "3   The hotel was adequate for my stay. The strips...  2019/08/20   \n",
       "4   Great location, room was large and spacious. P...  2019/08/19   \n",
       "5   All the options for fun were great! Do wish th...  2019/08/19   \n",
       "6   Old. Musty. Motel. \\n Bath need an update asap...  2019/08/19   \n",
       "7   Loved the layout of the hotel and the relaxing...  2019/08/19   \n",
       "8   My wife and I loved everything about it. It’s ...  2019/08/19   \n",
       "9   rooms were very small, was told i had a compli...  2019/08/19   \n",
       "10  Very clean and friendly and I love the locatio...  2019/08/19   \n",
       "11  Nice and comfortable good position near the st...  2019/08/19   \n",
       "12  Location was great, lobby area was nice but ro...  2019/08/19   \n",
       "13  Quiet and at a great location. \\n Good control...  2019/08/19   \n",
       "14  El servicio super amables no todos en el buffe...  2019/08/19   \n",
       "15  Very nice and quiet and clean rooms. \\n We wil...  2019/08/19   \n",
       "16  Rooms were clean, updated, and beds were comfo...  2019/08/19   \n",
       "17  The staff was exceptionally helpful and the pr...  2019/08/19   \n",
       "18  It was great for what we needed, a place to sl...  2019/08/19   \n",
       "19  rooms were clean. we had two room and were abl...  2019/08/19   \n",
       "20  A little off the beaten path, but ultimately p...  2019/08/18   \n",
       "21  The room is tiny. The building is old and worn...  2019/08/18   \n",
       "22  Awesome location, easy access to sights and su...  2019/08/18   \n",
       "23  基本的に問題なしでした。\\n 清潔で防音も普通な方で、水回りも清潔でシャワーの水圧も問題なし...  2019/08/18   \n",
       "24  The room did not seem clean. There was some so...  2019/08/18   \n",
       "25  Great location and friendly staff. Room with e...  2019/08/18   \n",
       "26  Real nice love to go back soon \\n I will recom...  2019/08/17   \n",
       "27  Beautiful hotel. Friendly, helpful staff. Walk...  2019/08/17   \n",
       "28  Beautiful Art Deco building, Foyer is very orn...  2019/08/17   \n",
       "29  En general excelente. Fantástica situación\\n D...  2019/08/17   \n",
       "30  Really close to job interview. Nice morning br...  2019/08/17   \n",
       "31  Les chambres familiales sont pratiques (nous é...  2019/08/17   \n",
       "32  Rooms very dirty and aged. Breakfast was of po...  2019/08/17   \n",
       "33                                                NaN  2019/08/17   \n",
       "34  I have stayed for 5 nights, Great service, aff...  2019/08/17   \n",
       "\n",
       "    polarity_scores  \n",
       "0            0.9421  \n",
       "1            0.8360  \n",
       "2            0.6588  \n",
       "3            0.3634  \n",
       "4            0.9260  \n",
       "5            0.8955  \n",
       "6            0.0000  \n",
       "7            0.7964  \n",
       "8            0.7650  \n",
       "9            0.5789  \n",
       "10           0.8940  \n",
       "11           0.8402  \n",
       "12           0.5423  \n",
       "13           0.7906  \n",
       "14           0.4215  \n",
       "15           0.6997  \n",
       "16           0.7184  \n",
       "17           0.7713  \n",
       "18           0.5106  \n",
       "19           0.5538  \n",
       "20           0.9380  \n",
       "21           0.6369  \n",
       "22           0.7906  \n",
       "23           0.0000  \n",
       "24          -0.0665  \n",
       "25           0.8074  \n",
       "26           0.9118  \n",
       "27           0.7579  \n",
       "28           0.5994  \n",
       "29          -0.2960  \n",
       "30           0.7088  \n",
       "31          -0.5550  \n",
       "32          -0.8016  \n",
       "33              NaN  \n",
       "34              NaN  "
      ]
     },
     "execution_count": 136,
     "metadata": {},
     "output_type": "execute_result"
    }
   ],
   "source": [
    "df.head(35)"
   ]
  },
  {
   "cell_type": "code",
   "execution_count": 162,
   "id": "040176f3",
   "metadata": {},
   "outputs": [],
   "source": [
    "df.drop(['score'], axis=1 ,inplace=True)"
   ]
  },
  {
   "cell_type": "code",
   "execution_count": 170,
   "id": "48697b14",
   "metadata": {},
   "outputs": [
    {
     "data": {
      "application/vnd.jupyter.widget-view+json": {
       "model_id": "17b69b4bf5424030bd807e5280b1f6b9",
       "version_major": 2,
       "version_minor": 0
      },
      "text/plain": [
       "  0%|          | 0/6393 [00:00<?, ?it/s]"
      ]
     },
     "metadata": {},
     "output_type": "display_data"
    }
   ],
   "source": [
    "res = {}\n",
    "for i, row in tqdm(df.iterrows() , total= len(df)):\n",
    "    review = row['Review']\n",
    "    mydate = row['date']\n",
    "    res[mydate] = sia().polarity_scores(review) "
   ]
  },
  {
   "cell_type": "code",
   "execution_count": 174,
   "id": "180278c8",
   "metadata": {},
   "outputs": [],
   "source": [
    "vaders = pd.DataFrame(res).T"
   ]
  },
  {
   "cell_type": "code",
   "execution_count": 175,
   "id": "4fafb46e",
   "metadata": {},
   "outputs": [
    {
     "data": {
      "text/html": [
       "<div>\n",
       "<style scoped>\n",
       "    .dataframe tbody tr th:only-of-type {\n",
       "        vertical-align: middle;\n",
       "    }\n",
       "\n",
       "    .dataframe tbody tr th {\n",
       "        vertical-align: top;\n",
       "    }\n",
       "\n",
       "    .dataframe thead th {\n",
       "        text-align: right;\n",
       "    }\n",
       "</style>\n",
       "<table border=\"1\" class=\"dataframe\">\n",
       "  <thead>\n",
       "    <tr style=\"text-align: right;\">\n",
       "      <th></th>\n",
       "      <th>neg</th>\n",
       "      <th>neu</th>\n",
       "      <th>pos</th>\n",
       "      <th>compound</th>\n",
       "    </tr>\n",
       "  </thead>\n",
       "  <tbody>\n",
       "    <tr>\n",
       "      <th>2019/08/20</th>\n",
       "      <td>0.073</td>\n",
       "      <td>0.825</td>\n",
       "      <td>0.102</td>\n",
       "      <td>0.3634</td>\n",
       "    </tr>\n",
       "    <tr>\n",
       "      <th>2019/08/19</th>\n",
       "      <td>0.044</td>\n",
       "      <td>0.851</td>\n",
       "      <td>0.106</td>\n",
       "      <td>0.4556</td>\n",
       "    </tr>\n",
       "    <tr>\n",
       "      <th>2019/08/18</th>\n",
       "      <td>0.185</td>\n",
       "      <td>0.588</td>\n",
       "      <td>0.227</td>\n",
       "      <td>0.1280</td>\n",
       "    </tr>\n",
       "    <tr>\n",
       "      <th>2019/08/17</th>\n",
       "      <td>0.153</td>\n",
       "      <td>0.730</td>\n",
       "      <td>0.116</td>\n",
       "      <td>-0.1548</td>\n",
       "    </tr>\n",
       "    <tr>\n",
       "      <th>2019/08/16</th>\n",
       "      <td>0.043</td>\n",
       "      <td>0.772</td>\n",
       "      <td>0.185</td>\n",
       "      <td>0.7900</td>\n",
       "    </tr>\n",
       "  </tbody>\n",
       "</table>\n",
       "</div>"
      ],
      "text/plain": [
       "              neg    neu    pos  compound\n",
       "2019/08/20  0.073  0.825  0.102    0.3634\n",
       "2019/08/19  0.044  0.851  0.106    0.4556\n",
       "2019/08/18  0.185  0.588  0.227    0.1280\n",
       "2019/08/17  0.153  0.730  0.116   -0.1548\n",
       "2019/08/16  0.043  0.772  0.185    0.7900"
      ]
     },
     "execution_count": 175,
     "metadata": {},
     "output_type": "execute_result"
    }
   ],
   "source": [
    "vaders.head()"
   ]
  },
  {
   "cell_type": "code",
   "execution_count": 178,
   "id": "0a3b0c44",
   "metadata": {},
   "outputs": [],
   "source": [
    "vaders = vaders.reset_index().rename(columns = {'index' : 'date'})\n",
    "vaders = vaders.merge(df, how = 'left')"
   ]
  },
  {
   "cell_type": "code",
   "execution_count": 182,
   "id": "1f527cab",
   "metadata": {},
   "outputs": [
    {
     "data": {
      "text/html": [
       "<div>\n",
       "<style scoped>\n",
       "    .dataframe tbody tr th:only-of-type {\n",
       "        vertical-align: middle;\n",
       "    }\n",
       "\n",
       "    .dataframe tbody tr th {\n",
       "        vertical-align: top;\n",
       "    }\n",
       "\n",
       "    .dataframe thead th {\n",
       "        text-align: right;\n",
       "    }\n",
       "</style>\n",
       "<table border=\"1\" class=\"dataframe\">\n",
       "  <thead>\n",
       "    <tr style=\"text-align: right;\">\n",
       "      <th></th>\n",
       "      <th>date</th>\n",
       "      <th>neg</th>\n",
       "      <th>neu</th>\n",
       "      <th>pos</th>\n",
       "      <th>compound</th>\n",
       "      <th>Review</th>\n",
       "    </tr>\n",
       "  </thead>\n",
       "  <tbody>\n",
       "    <tr>\n",
       "      <th>0</th>\n",
       "      <td>2019/08/20</td>\n",
       "      <td>0.073</td>\n",
       "      <td>0.825</td>\n",
       "      <td>0.102</td>\n",
       "      <td>0.3634</td>\n",
       "      <td>I was very impressed with the resort.\\n Great ...</td>\n",
       "    </tr>\n",
       "    <tr>\n",
       "      <th>1</th>\n",
       "      <td>2019/08/20</td>\n",
       "      <td>0.073</td>\n",
       "      <td>0.825</td>\n",
       "      <td>0.102</td>\n",
       "      <td>0.3634</td>\n",
       "      <td>The rooms were nice the outside needs work als...</td>\n",
       "    </tr>\n",
       "    <tr>\n",
       "      <th>2</th>\n",
       "      <td>2019/08/20</td>\n",
       "      <td>0.073</td>\n",
       "      <td>0.825</td>\n",
       "      <td>0.102</td>\n",
       "      <td>0.3634</td>\n",
       "      <td>Great location! I have stayed at this hotel on...</td>\n",
       "    </tr>\n",
       "    <tr>\n",
       "      <th>3</th>\n",
       "      <td>2019/08/20</td>\n",
       "      <td>0.073</td>\n",
       "      <td>0.825</td>\n",
       "      <td>0.102</td>\n",
       "      <td>0.3634</td>\n",
       "      <td>The hotel was adequate for my stay. The strips...</td>\n",
       "    </tr>\n",
       "    <tr>\n",
       "      <th>4</th>\n",
       "      <td>2019/08/19</td>\n",
       "      <td>0.044</td>\n",
       "      <td>0.851</td>\n",
       "      <td>0.106</td>\n",
       "      <td>0.4556</td>\n",
       "      <td>Great location, room was large and spacious. P...</td>\n",
       "    </tr>\n",
       "  </tbody>\n",
       "</table>\n",
       "</div>"
      ],
      "text/plain": [
       "         date    neg    neu    pos  compound  \\\n",
       "0  2019/08/20  0.073  0.825  0.102    0.3634   \n",
       "1  2019/08/20  0.073  0.825  0.102    0.3634   \n",
       "2  2019/08/20  0.073  0.825  0.102    0.3634   \n",
       "3  2019/08/20  0.073  0.825  0.102    0.3634   \n",
       "4  2019/08/19  0.044  0.851  0.106    0.4556   \n",
       "\n",
       "                                              Review  \n",
       "0  I was very impressed with the resort.\\n Great ...  \n",
       "1  The rooms were nice the outside needs work als...  \n",
       "2  Great location! I have stayed at this hotel on...  \n",
       "3  The hotel was adequate for my stay. The strips...  \n",
       "4  Great location, room was large and spacious. P...  "
      ]
     },
     "execution_count": 182,
     "metadata": {},
     "output_type": "execute_result"
    }
   ],
   "source": [
    "vaders.head()"
   ]
  },
  {
   "cell_type": "code",
   "execution_count": 185,
   "id": "8a03572a",
   "metadata": {},
   "outputs": [],
   "source": [
    "vaders['score']= vaders['compound'].apply(lambda c: 'positive' if c >=0 else 'negative')"
   ]
  },
  {
   "cell_type": "code",
   "execution_count": 186,
   "id": "f9588bb9",
   "metadata": {},
   "outputs": [
    {
     "data": {
      "text/html": [
       "<div>\n",
       "<style scoped>\n",
       "    .dataframe tbody tr th:only-of-type {\n",
       "        vertical-align: middle;\n",
       "    }\n",
       "\n",
       "    .dataframe tbody tr th {\n",
       "        vertical-align: top;\n",
       "    }\n",
       "\n",
       "    .dataframe thead th {\n",
       "        text-align: right;\n",
       "    }\n",
       "</style>\n",
       "<table border=\"1\" class=\"dataframe\">\n",
       "  <thead>\n",
       "    <tr style=\"text-align: right;\">\n",
       "      <th></th>\n",
       "      <th>date</th>\n",
       "      <th>neg</th>\n",
       "      <th>neu</th>\n",
       "      <th>pos</th>\n",
       "      <th>compound</th>\n",
       "      <th>Review</th>\n",
       "      <th>score</th>\n",
       "    </tr>\n",
       "  </thead>\n",
       "  <tbody>\n",
       "    <tr>\n",
       "      <th>0</th>\n",
       "      <td>2019/08/20</td>\n",
       "      <td>0.073</td>\n",
       "      <td>0.825</td>\n",
       "      <td>0.102</td>\n",
       "      <td>0.3634</td>\n",
       "      <td>I was very impressed with the resort.\\n Great ...</td>\n",
       "      <td>positive</td>\n",
       "    </tr>\n",
       "    <tr>\n",
       "      <th>1</th>\n",
       "      <td>2019/08/20</td>\n",
       "      <td>0.073</td>\n",
       "      <td>0.825</td>\n",
       "      <td>0.102</td>\n",
       "      <td>0.3634</td>\n",
       "      <td>The rooms were nice the outside needs work als...</td>\n",
       "      <td>positive</td>\n",
       "    </tr>\n",
       "    <tr>\n",
       "      <th>2</th>\n",
       "      <td>2019/08/20</td>\n",
       "      <td>0.073</td>\n",
       "      <td>0.825</td>\n",
       "      <td>0.102</td>\n",
       "      <td>0.3634</td>\n",
       "      <td>Great location! I have stayed at this hotel on...</td>\n",
       "      <td>positive</td>\n",
       "    </tr>\n",
       "    <tr>\n",
       "      <th>3</th>\n",
       "      <td>2019/08/20</td>\n",
       "      <td>0.073</td>\n",
       "      <td>0.825</td>\n",
       "      <td>0.102</td>\n",
       "      <td>0.3634</td>\n",
       "      <td>The hotel was adequate for my stay. The strips...</td>\n",
       "      <td>positive</td>\n",
       "    </tr>\n",
       "    <tr>\n",
       "      <th>4</th>\n",
       "      <td>2019/08/19</td>\n",
       "      <td>0.044</td>\n",
       "      <td>0.851</td>\n",
       "      <td>0.106</td>\n",
       "      <td>0.4556</td>\n",
       "      <td>Great location, room was large and spacious. P...</td>\n",
       "      <td>positive</td>\n",
       "    </tr>\n",
       "  </tbody>\n",
       "</table>\n",
       "</div>"
      ],
      "text/plain": [
       "         date    neg    neu    pos  compound  \\\n",
       "0  2019/08/20  0.073  0.825  0.102    0.3634   \n",
       "1  2019/08/20  0.073  0.825  0.102    0.3634   \n",
       "2  2019/08/20  0.073  0.825  0.102    0.3634   \n",
       "3  2019/08/20  0.073  0.825  0.102    0.3634   \n",
       "4  2019/08/19  0.044  0.851  0.106    0.4556   \n",
       "\n",
       "                                              Review     score  \n",
       "0  I was very impressed with the resort.\\n Great ...  positive  \n",
       "1  The rooms were nice the outside needs work als...  positive  \n",
       "2  Great location! I have stayed at this hotel on...  positive  \n",
       "3  The hotel was adequate for my stay. The strips...  positive  \n",
       "4  Great location, room was large and spacious. P...  positive  "
      ]
     },
     "execution_count": 186,
     "metadata": {},
     "output_type": "execute_result"
    }
   ],
   "source": [
    "vaders.head()"
   ]
  },
  {
   "cell_type": "code",
   "execution_count": 190,
   "id": "a4e48bf2",
   "metadata": {},
   "outputs": [
    {
     "data": {
      "text/plain": [
       "positive    4915\n",
       "negative    1478\n",
       "Name: score, dtype: int64"
      ]
     },
     "execution_count": 190,
     "metadata": {},
     "output_type": "execute_result"
    }
   ],
   "source": [
    "vaders['score'].value_counts()"
   ]
  },
  {
   "cell_type": "markdown",
   "id": "f5f5bbec",
   "metadata": {},
   "source": [
    " there are 4915 positive comments and 1478 negative comments"
   ]
  },
  {
   "cell_type": "code",
   "execution_count": 191,
   "id": "7c541ae5",
   "metadata": {},
   "outputs": [
    {
     "data": {
      "text/plain": [
       "Jun 2019      145\n",
       "May 2019      121\n",
       "Jul 2019       92\n",
       "2018/12/01     66\n",
       "Oct 2018       58\n",
       "             ... \n",
       "2019/2/14       3\n",
       "Dec 2018        2\n",
       "2019/06/06      2\n",
       "2019/06/08      2\n",
       "2019/05/31      2\n",
       "Name: date, Length: 403, dtype: int64"
      ]
     },
     "execution_count": 191,
     "metadata": {},
     "output_type": "execute_result"
    }
   ],
   "source": [
    "vaders['date'].value_counts()"
   ]
  },
  {
   "cell_type": "markdown",
   "id": "4fe963d5",
   "metadata": {},
   "source": [
    "highest numbers reviews are on june 2019"
   ]
  },
  {
   "cell_type": "code",
   "execution_count": 284,
   "id": "6b30363e",
   "metadata": {},
   "outputs": [
    {
     "data": {
      "text/html": [
       "<div>\n",
       "<style scoped>\n",
       "    .dataframe tbody tr th:only-of-type {\n",
       "        vertical-align: middle;\n",
       "    }\n",
       "\n",
       "    .dataframe tbody tr th {\n",
       "        vertical-align: top;\n",
       "    }\n",
       "\n",
       "    .dataframe thead th {\n",
       "        text-align: right;\n",
       "    }\n",
       "</style>\n",
       "<table border=\"1\" class=\"dataframe\">\n",
       "  <thead>\n",
       "    <tr style=\"text-align: right;\">\n",
       "      <th></th>\n",
       "      <th>date</th>\n",
       "      <th>score</th>\n",
       "      <th>count</th>\n",
       "    </tr>\n",
       "  </thead>\n",
       "  <tbody>\n",
       "    <tr>\n",
       "      <th>397</th>\n",
       "      <td>Jun 2019</td>\n",
       "      <td>positive</td>\n",
       "      <td>145</td>\n",
       "    </tr>\n",
       "    <tr>\n",
       "      <th>399</th>\n",
       "      <td>May 2019</td>\n",
       "      <td>negative</td>\n",
       "      <td>121</td>\n",
       "    </tr>\n",
       "    <tr>\n",
       "      <th>396</th>\n",
       "      <td>Jul 2019</td>\n",
       "      <td>positive</td>\n",
       "      <td>92</td>\n",
       "    </tr>\n",
       "    <tr>\n",
       "      <th>122</th>\n",
       "      <td>2018/12/01</td>\n",
       "      <td>positive</td>\n",
       "      <td>66</td>\n",
       "    </tr>\n",
       "    <tr>\n",
       "      <th>401</th>\n",
       "      <td>Oct 2018</td>\n",
       "      <td>positive</td>\n",
       "      <td>58</td>\n",
       "    </tr>\n",
       "    <tr>\n",
       "      <th>...</th>\n",
       "      <td>...</td>\n",
       "      <td>...</td>\n",
       "      <td>...</td>\n",
       "    </tr>\n",
       "    <tr>\n",
       "      <th>269</th>\n",
       "      <td>2019/06/14</td>\n",
       "      <td>positive</td>\n",
       "      <td>3</td>\n",
       "    </tr>\n",
       "    <tr>\n",
       "      <th>393</th>\n",
       "      <td>Dec 2018</td>\n",
       "      <td>negative</td>\n",
       "      <td>2</td>\n",
       "    </tr>\n",
       "    <tr>\n",
       "      <th>255</th>\n",
       "      <td>2019/05/31</td>\n",
       "      <td>positive</td>\n",
       "      <td>2</td>\n",
       "    </tr>\n",
       "    <tr>\n",
       "      <th>261</th>\n",
       "      <td>2019/06/06</td>\n",
       "      <td>negative</td>\n",
       "      <td>2</td>\n",
       "    </tr>\n",
       "    <tr>\n",
       "      <th>263</th>\n",
       "      <td>2019/06/08</td>\n",
       "      <td>positive</td>\n",
       "      <td>2</td>\n",
       "    </tr>\n",
       "  </tbody>\n",
       "</table>\n",
       "<p>403 rows × 3 columns</p>\n",
       "</div>"
      ],
      "text/plain": [
       "           date     score  count\n",
       "397    Jun 2019  positive    145\n",
       "399    May 2019  negative    121\n",
       "396    Jul 2019  positive     92\n",
       "122  2018/12/01  positive     66\n",
       "401    Oct 2018  positive     58\n",
       "..          ...       ...    ...\n",
       "269  2019/06/14  positive      3\n",
       "393    Dec 2018  negative      2\n",
       "255  2019/05/31  positive      2\n",
       "261  2019/06/06  negative      2\n",
       "263  2019/06/08  positive      2\n",
       "\n",
       "[403 rows x 3 columns]"
      ]
     },
     "execution_count": 284,
     "metadata": {},
     "output_type": "execute_result"
    }
   ],
   "source": [
    "vaders.groupby(['date'], as_index = False)['score'].value_counts().sort_values(by = 'count', ascending = False)"
   ]
  },
  {
   "cell_type": "code",
   "execution_count": 283,
   "id": "3a6ce728",
   "metadata": {},
   "outputs": [
    {
     "data": {
      "text/html": [
       "<div>\n",
       "<style scoped>\n",
       "    .dataframe tbody tr th:only-of-type {\n",
       "        vertical-align: middle;\n",
       "    }\n",
       "\n",
       "    .dataframe tbody tr th {\n",
       "        vertical-align: top;\n",
       "    }\n",
       "\n",
       "    .dataframe thead th {\n",
       "        text-align: right;\n",
       "    }\n",
       "</style>\n",
       "<table border=\"1\" class=\"dataframe\">\n",
       "  <thead>\n",
       "    <tr style=\"text-align: right;\">\n",
       "      <th></th>\n",
       "      <th>date</th>\n",
       "      <th>score</th>\n",
       "      <th>count</th>\n",
       "    </tr>\n",
       "  </thead>\n",
       "  <tbody>\n",
       "    <tr>\n",
       "      <th>261</th>\n",
       "      <td>2019/06/06</td>\n",
       "      <td>negative</td>\n",
       "      <td>2</td>\n",
       "    </tr>\n",
       "    <tr>\n",
       "      <th>393</th>\n",
       "      <td>Dec 2018</td>\n",
       "      <td>negative</td>\n",
       "      <td>2</td>\n",
       "    </tr>\n",
       "    <tr>\n",
       "      <th>255</th>\n",
       "      <td>2019/05/31</td>\n",
       "      <td>positive</td>\n",
       "      <td>2</td>\n",
       "    </tr>\n",
       "    <tr>\n",
       "      <th>263</th>\n",
       "      <td>2019/06/08</td>\n",
       "      <td>positive</td>\n",
       "      <td>2</td>\n",
       "    </tr>\n",
       "    <tr>\n",
       "      <th>269</th>\n",
       "      <td>2019/06/14</td>\n",
       "      <td>positive</td>\n",
       "      <td>3</td>\n",
       "    </tr>\n",
       "    <tr>\n",
       "      <th>...</th>\n",
       "      <td>...</td>\n",
       "      <td>...</td>\n",
       "      <td>...</td>\n",
       "    </tr>\n",
       "    <tr>\n",
       "      <th>401</th>\n",
       "      <td>Oct 2018</td>\n",
       "      <td>positive</td>\n",
       "      <td>58</td>\n",
       "    </tr>\n",
       "    <tr>\n",
       "      <th>122</th>\n",
       "      <td>2018/12/01</td>\n",
       "      <td>positive</td>\n",
       "      <td>66</td>\n",
       "    </tr>\n",
       "    <tr>\n",
       "      <th>396</th>\n",
       "      <td>Jul 2019</td>\n",
       "      <td>positive</td>\n",
       "      <td>92</td>\n",
       "    </tr>\n",
       "    <tr>\n",
       "      <th>399</th>\n",
       "      <td>May 2019</td>\n",
       "      <td>negative</td>\n",
       "      <td>121</td>\n",
       "    </tr>\n",
       "    <tr>\n",
       "      <th>397</th>\n",
       "      <td>Jun 2019</td>\n",
       "      <td>positive</td>\n",
       "      <td>145</td>\n",
       "    </tr>\n",
       "  </tbody>\n",
       "</table>\n",
       "<p>403 rows × 3 columns</p>\n",
       "</div>"
      ],
      "text/plain": [
       "           date     score  count\n",
       "261  2019/06/06  negative      2\n",
       "393    Dec 2018  negative      2\n",
       "255  2019/05/31  positive      2\n",
       "263  2019/06/08  positive      2\n",
       "269  2019/06/14  positive      3\n",
       "..          ...       ...    ...\n",
       "401    Oct 2018  positive     58\n",
       "122  2018/12/01  positive     66\n",
       "396    Jul 2019  positive     92\n",
       "399    May 2019  negative    121\n",
       "397    Jun 2019  positive    145\n",
       "\n",
       "[403 rows x 3 columns]"
      ]
     },
     "execution_count": 283,
     "metadata": {},
     "output_type": "execute_result"
    }
   ],
   "source": [
    "vaders.groupby(['date'], as_index = False)['score'].value_counts().sort_values(by = 'count')"
   ]
  },
  {
   "cell_type": "markdown",
   "id": "b6b129bc",
   "metadata": {},
   "source": [
    "highest positive review are on june 2019  and highest negative are on may 2019"
   ]
  },
  {
   "cell_type": "code",
   "execution_count": null,
   "id": "526b792b",
   "metadata": {},
   "outputs": [],
   "source": []
  }
 ],
 "metadata": {
  "kernelspec": {
   "display_name": "Python 3 (ipykernel)",
   "language": "python",
   "name": "python3"
  },
  "language_info": {
   "codemirror_mode": {
    "name": "ipython",
    "version": 3
   },
   "file_extension": ".py",
   "mimetype": "text/x-python",
   "name": "python",
   "nbconvert_exporter": "python",
   "pygments_lexer": "ipython3",
   "version": "3.11.4"
  }
 },
 "nbformat": 4,
 "nbformat_minor": 5
}
